{
 "cells": [
  {
   "cell_type": "code",
   "execution_count": 1,
   "id": "6eb7209f",
   "metadata": {},
   "outputs": [],
   "source": [
    "\"\"\" import the necessary libraries \"\"\"\n",
    "import pandas as pd\n",
    "import numpy as np"
   ]
  },
  {
   "cell_type": "code",
   "execution_count": 2,
   "id": "91a992f9",
   "metadata": {},
   "outputs": [],
   "source": [
    "\"\"\" Read the dataset we got from Kaggle \"\"\"\n",
    "dataset = pd.read_csv(\"Dataset/Student_Performance.csv\")"
   ]
  },
  {
   "cell_type": "code",
   "execution_count": 3,
   "id": "d50ac8e2",
   "metadata": {},
   "outputs": [
    {
     "data": {
      "text/html": [
       "<div>\n",
       "<style scoped>\n",
       "    .dataframe tbody tr th:only-of-type {\n",
       "        vertical-align: middle;\n",
       "    }\n",
       "\n",
       "    .dataframe tbody tr th {\n",
       "        vertical-align: top;\n",
       "    }\n",
       "\n",
       "    .dataframe thead th {\n",
       "        text-align: right;\n",
       "    }\n",
       "</style>\n",
       "<table border=\"1\" class=\"dataframe\">\n",
       "  <thead>\n",
       "    <tr style=\"text-align: right;\">\n",
       "      <th></th>\n",
       "      <th>Hours Studied</th>\n",
       "      <th>Previous Scores</th>\n",
       "      <th>Extracurricular Activities</th>\n",
       "      <th>Sleep Hours</th>\n",
       "      <th>Sample Question Papers Practiced</th>\n",
       "      <th>Performance Index</th>\n",
       "    </tr>\n",
       "  </thead>\n",
       "  <tbody>\n",
       "    <tr>\n",
       "      <th>7951</th>\n",
       "      <td>9</td>\n",
       "      <td>88</td>\n",
       "      <td>Yes</td>\n",
       "      <td>8</td>\n",
       "      <td>9</td>\n",
       "      <td>88.0</td>\n",
       "    </tr>\n",
       "    <tr>\n",
       "      <th>756</th>\n",
       "      <td>6</td>\n",
       "      <td>66</td>\n",
       "      <td>Yes</td>\n",
       "      <td>6</td>\n",
       "      <td>8</td>\n",
       "      <td>53.0</td>\n",
       "    </tr>\n",
       "    <tr>\n",
       "      <th>9013</th>\n",
       "      <td>4</td>\n",
       "      <td>71</td>\n",
       "      <td>Yes</td>\n",
       "      <td>9</td>\n",
       "      <td>5</td>\n",
       "      <td>55.0</td>\n",
       "    </tr>\n",
       "    <tr>\n",
       "      <th>2999</th>\n",
       "      <td>6</td>\n",
       "      <td>54</td>\n",
       "      <td>No</td>\n",
       "      <td>6</td>\n",
       "      <td>0</td>\n",
       "      <td>43.0</td>\n",
       "    </tr>\n",
       "    <tr>\n",
       "      <th>4123</th>\n",
       "      <td>8</td>\n",
       "      <td>51</td>\n",
       "      <td>Yes</td>\n",
       "      <td>9</td>\n",
       "      <td>0</td>\n",
       "      <td>44.0</td>\n",
       "    </tr>\n",
       "  </tbody>\n",
       "</table>\n",
       "</div>"
      ],
      "text/plain": [
       "      Hours Studied  Previous Scores Extracurricular Activities  Sleep Hours  \\\n",
       "7951              9               88                        Yes            8   \n",
       "756               6               66                        Yes            6   \n",
       "9013              4               71                        Yes            9   \n",
       "2999              6               54                         No            6   \n",
       "4123              8               51                        Yes            9   \n",
       "\n",
       "      Sample Question Papers Practiced  Performance Index  \n",
       "7951                                 9               88.0  \n",
       "756                                  8               53.0  \n",
       "9013                                 5               55.0  \n",
       "2999                                 0               43.0  \n",
       "4123                                 0               44.0  "
      ]
     },
     "execution_count": 3,
     "metadata": {},
     "output_type": "execute_result"
    }
   ],
   "source": [
    "\"\"\" read sample from this dataset \"\"\"\n",
    "dataset.sample(5)"
   ]
  },
  {
   "cell_type": "code",
   "execution_count": 4,
   "id": "8b36c2ee",
   "metadata": {},
   "outputs": [
    {
     "data": {
      "text/plain": [
       "pandas.core.frame.DataFrame"
      ]
     },
     "execution_count": 4,
     "metadata": {},
     "output_type": "execute_result"
    }
   ],
   "source": [
    "type(dataset)"
   ]
  },
  {
   "cell_type": "code",
   "execution_count": 5,
   "id": "fcc503b8",
   "metadata": {},
   "outputs": [],
   "source": [
    "\"\"\" Shuffle the dataset ,so we can make sure that the ordering of the dataset does not affect the learning process \"\"\"\n",
    "import random\n",
    "dataset = dataset.sample(frac = 1) #shuffle by rows"
   ]
  },
  {
   "cell_type": "code",
   "execution_count": 6,
   "id": "60b7b875",
   "metadata": {},
   "outputs": [
    {
     "data": {
      "text/html": [
       "<div>\n",
       "<style scoped>\n",
       "    .dataframe tbody tr th:only-of-type {\n",
       "        vertical-align: middle;\n",
       "    }\n",
       "\n",
       "    .dataframe tbody tr th {\n",
       "        vertical-align: top;\n",
       "    }\n",
       "\n",
       "    .dataframe thead th {\n",
       "        text-align: right;\n",
       "    }\n",
       "</style>\n",
       "<table border=\"1\" class=\"dataframe\">\n",
       "  <thead>\n",
       "    <tr style=\"text-align: right;\">\n",
       "      <th></th>\n",
       "      <th>Hours Studied</th>\n",
       "      <th>Previous Scores</th>\n",
       "      <th>Extracurricular Activities</th>\n",
       "      <th>Sleep Hours</th>\n",
       "      <th>Sample Question Papers Practiced</th>\n",
       "      <th>Performance Index</th>\n",
       "    </tr>\n",
       "  </thead>\n",
       "  <tbody>\n",
       "    <tr>\n",
       "      <th>5842</th>\n",
       "      <td>9</td>\n",
       "      <td>54</td>\n",
       "      <td>Yes</td>\n",
       "      <td>7</td>\n",
       "      <td>3</td>\n",
       "      <td>52.0</td>\n",
       "    </tr>\n",
       "    <tr>\n",
       "      <th>7436</th>\n",
       "      <td>6</td>\n",
       "      <td>97</td>\n",
       "      <td>Yes</td>\n",
       "      <td>8</td>\n",
       "      <td>5</td>\n",
       "      <td>86.0</td>\n",
       "    </tr>\n",
       "    <tr>\n",
       "      <th>6266</th>\n",
       "      <td>9</td>\n",
       "      <td>56</td>\n",
       "      <td>Yes</td>\n",
       "      <td>9</td>\n",
       "      <td>2</td>\n",
       "      <td>53.0</td>\n",
       "    </tr>\n",
       "    <tr>\n",
       "      <th>3338</th>\n",
       "      <td>5</td>\n",
       "      <td>53</td>\n",
       "      <td>No</td>\n",
       "      <td>9</td>\n",
       "      <td>8</td>\n",
       "      <td>38.0</td>\n",
       "    </tr>\n",
       "    <tr>\n",
       "      <th>2087</th>\n",
       "      <td>5</td>\n",
       "      <td>58</td>\n",
       "      <td>Yes</td>\n",
       "      <td>7</td>\n",
       "      <td>2</td>\n",
       "      <td>43.0</td>\n",
       "    </tr>\n",
       "  </tbody>\n",
       "</table>\n",
       "</div>"
      ],
      "text/plain": [
       "      Hours Studied  Previous Scores Extracurricular Activities  Sleep Hours  \\\n",
       "5842              9               54                        Yes            7   \n",
       "7436              6               97                        Yes            8   \n",
       "6266              9               56                        Yes            9   \n",
       "3338              5               53                         No            9   \n",
       "2087              5               58                        Yes            7   \n",
       "\n",
       "      Sample Question Papers Practiced  Performance Index  \n",
       "5842                                 3               52.0  \n",
       "7436                                 5               86.0  \n",
       "6266                                 2               53.0  \n",
       "3338                                 8               38.0  \n",
       "2087                                 2               43.0  "
      ]
     },
     "execution_count": 6,
     "metadata": {},
     "output_type": "execute_result"
    }
   ],
   "source": [
    "dataset.sample(5)"
   ]
  },
  {
   "cell_type": "code",
   "execution_count": 7,
   "id": "3371ab6f",
   "metadata": {},
   "outputs": [
    {
     "data": {
      "text/plain": [
       "Hours Studied                       0\n",
       "Previous Scores                     0\n",
       "Extracurricular Activities          0\n",
       "Sleep Hours                         0\n",
       "Sample Question Papers Practiced    0\n",
       "Performance Index                   0\n",
       "dtype: int64"
      ]
     },
     "execution_count": 7,
     "metadata": {},
     "output_type": "execute_result"
    }
   ],
   "source": [
    "\"\"\" Check whether there are missing values in the dataset or not \"\"\"\n",
    "dataset.isnull().sum()"
   ]
  },
  {
   "cell_type": "markdown",
   "id": "696f34eb",
   "metadata": {},
   "source": [
    "### it seems that there are not missing values in the dataset "
   ]
  },
  {
   "cell_type": "code",
   "execution_count": 8,
   "id": "b54e5d21",
   "metadata": {},
   "outputs": [],
   "source": [
    "\"\"\" Check whether the dataset contains duplicates rows OR not \"\"\"\n",
    "duplicate = dataset[dataset.duplicated()]"
   ]
  },
  {
   "cell_type": "code",
   "execution_count": 9,
   "id": "746a1838",
   "metadata": {},
   "outputs": [
    {
     "data": {
      "text/html": [
       "<div>\n",
       "<style scoped>\n",
       "    .dataframe tbody tr th:only-of-type {\n",
       "        vertical-align: middle;\n",
       "    }\n",
       "\n",
       "    .dataframe tbody tr th {\n",
       "        vertical-align: top;\n",
       "    }\n",
       "\n",
       "    .dataframe thead th {\n",
       "        text-align: right;\n",
       "    }\n",
       "</style>\n",
       "<table border=\"1\" class=\"dataframe\">\n",
       "  <thead>\n",
       "    <tr style=\"text-align: right;\">\n",
       "      <th></th>\n",
       "      <th>Hours Studied</th>\n",
       "      <th>Previous Scores</th>\n",
       "      <th>Extracurricular Activities</th>\n",
       "      <th>Sleep Hours</th>\n",
       "      <th>Sample Question Papers Practiced</th>\n",
       "      <th>Performance Index</th>\n",
       "    </tr>\n",
       "  </thead>\n",
       "  <tbody>\n",
       "    <tr>\n",
       "      <th>1309</th>\n",
       "      <td>8</td>\n",
       "      <td>74</td>\n",
       "      <td>No</td>\n",
       "      <td>5</td>\n",
       "      <td>5</td>\n",
       "      <td>67.0</td>\n",
       "    </tr>\n",
       "    <tr>\n",
       "      <th>8853</th>\n",
       "      <td>2</td>\n",
       "      <td>45</td>\n",
       "      <td>Yes</td>\n",
       "      <td>6</td>\n",
       "      <td>0</td>\n",
       "      <td>19.0</td>\n",
       "    </tr>\n",
       "    <tr>\n",
       "      <th>7753</th>\n",
       "      <td>5</td>\n",
       "      <td>86</td>\n",
       "      <td>Yes</td>\n",
       "      <td>7</td>\n",
       "      <td>6</td>\n",
       "      <td>73.0</td>\n",
       "    </tr>\n",
       "    <tr>\n",
       "      <th>5739</th>\n",
       "      <td>5</td>\n",
       "      <td>48</td>\n",
       "      <td>No</td>\n",
       "      <td>6</td>\n",
       "      <td>4</td>\n",
       "      <td>33.0</td>\n",
       "    </tr>\n",
       "    <tr>\n",
       "      <th>7276</th>\n",
       "      <td>7</td>\n",
       "      <td>79</td>\n",
       "      <td>No</td>\n",
       "      <td>5</td>\n",
       "      <td>4</td>\n",
       "      <td>69.0</td>\n",
       "    </tr>\n",
       "    <tr>\n",
       "      <th>...</th>\n",
       "      <td>...</td>\n",
       "      <td>...</td>\n",
       "      <td>...</td>\n",
       "      <td>...</td>\n",
       "      <td>...</td>\n",
       "      <td>...</td>\n",
       "    </tr>\n",
       "    <tr>\n",
       "      <th>5312</th>\n",
       "      <td>8</td>\n",
       "      <td>87</td>\n",
       "      <td>Yes</td>\n",
       "      <td>5</td>\n",
       "      <td>6</td>\n",
       "      <td>82.0</td>\n",
       "    </tr>\n",
       "    <tr>\n",
       "      <th>1108</th>\n",
       "      <td>7</td>\n",
       "      <td>73</td>\n",
       "      <td>Yes</td>\n",
       "      <td>9</td>\n",
       "      <td>5</td>\n",
       "      <td>66.0</td>\n",
       "    </tr>\n",
       "    <tr>\n",
       "      <th>6635</th>\n",
       "      <td>6</td>\n",
       "      <td>66</td>\n",
       "      <td>Yes</td>\n",
       "      <td>7</td>\n",
       "      <td>7</td>\n",
       "      <td>58.0</td>\n",
       "    </tr>\n",
       "    <tr>\n",
       "      <th>1537</th>\n",
       "      <td>8</td>\n",
       "      <td>55</td>\n",
       "      <td>No</td>\n",
       "      <td>8</td>\n",
       "      <td>3</td>\n",
       "      <td>49.0</td>\n",
       "    </tr>\n",
       "    <tr>\n",
       "      <th>6924</th>\n",
       "      <td>7</td>\n",
       "      <td>68</td>\n",
       "      <td>No</td>\n",
       "      <td>6</td>\n",
       "      <td>9</td>\n",
       "      <td>61.0</td>\n",
       "    </tr>\n",
       "  </tbody>\n",
       "</table>\n",
       "<p>127 rows × 6 columns</p>\n",
       "</div>"
      ],
      "text/plain": [
       "      Hours Studied  Previous Scores Extracurricular Activities  Sleep Hours  \\\n",
       "1309              8               74                         No            5   \n",
       "8853              2               45                        Yes            6   \n",
       "7753              5               86                        Yes            7   \n",
       "5739              5               48                         No            6   \n",
       "7276              7               79                         No            5   \n",
       "...             ...              ...                        ...          ...   \n",
       "5312              8               87                        Yes            5   \n",
       "1108              7               73                        Yes            9   \n",
       "6635              6               66                        Yes            7   \n",
       "1537              8               55                         No            8   \n",
       "6924              7               68                         No            6   \n",
       "\n",
       "      Sample Question Papers Practiced  Performance Index  \n",
       "1309                                 5               67.0  \n",
       "8853                                 0               19.0  \n",
       "7753                                 6               73.0  \n",
       "5739                                 4               33.0  \n",
       "7276                                 4               69.0  \n",
       "...                                ...                ...  \n",
       "5312                                 6               82.0  \n",
       "1108                                 5               66.0  \n",
       "6635                                 7               58.0  \n",
       "1537                                 3               49.0  \n",
       "6924                                 9               61.0  \n",
       "\n",
       "[127 rows x 6 columns]"
      ]
     },
     "execution_count": 9,
     "metadata": {},
     "output_type": "execute_result"
    }
   ],
   "source": [
    "duplicate"
   ]
  },
  {
   "cell_type": "markdown",
   "id": "42b10fb7",
   "metadata": {},
   "source": [
    "# it seems that there are 127 duplicate rows in the dataset"
   ]
  },
  {
   "cell_type": "code",
   "execution_count": 10,
   "id": "02611fd1",
   "metadata": {},
   "outputs": [],
   "source": [
    "\"\"\" Drop the duplicate rows \"\"\"\n",
    "dataset = dataset.drop_duplicates()"
   ]
  },
  {
   "cell_type": "markdown",
   "id": "40c1f2e7",
   "metadata": {},
   "source": [
    "# Handle Categorical Columns\n",
    "### Extracurricular Activities column is a categorical"
   ]
  },
  {
   "cell_type": "code",
   "execution_count": 11,
   "id": "cc0aa810",
   "metadata": {},
   "outputs": [],
   "source": [
    "import sklearn"
   ]
  },
  {
   "cell_type": "code",
   "execution_count": 12,
   "id": "0ee22b3f",
   "metadata": {},
   "outputs": [
    {
     "name": "stdout",
     "output_type": "stream",
     "text": [
      "Requirement already satisfied: category_encoders in c:\\users\\ashraf\\anaconda3\\lib\\site-packages (2.6.3)\n",
      "Requirement already satisfied: pandas>=1.0.5 in c:\\users\\ashraf\\anaconda3\\lib\\site-packages (from category_encoders) (1.4.4)\n",
      "Requirement already satisfied: numpy>=1.14.0 in c:\\users\\ashraf\\anaconda3\\lib\\site-packages (from category_encoders) (1.21.5)\n",
      "Requirement already satisfied: statsmodels>=0.9.0 in c:\\users\\ashraf\\anaconda3\\lib\\site-packages (from category_encoders) (0.13.2)\n",
      "Requirement already satisfied: patsy>=0.5.1 in c:\\users\\ashraf\\anaconda3\\lib\\site-packages (from category_encoders) (0.5.2)\n",
      "Requirement already satisfied: scikit-learn>=0.20.0 in c:\\users\\ashraf\\anaconda3\\lib\\site-packages (from category_encoders) (1.0.2)\n",
      "Requirement already satisfied: scipy>=1.0.0 in c:\\users\\ashraf\\anaconda3\\lib\\site-packages (from category_encoders) (1.9.1)\n",
      "Requirement already satisfied: python-dateutil>=2.8.1 in c:\\users\\ashraf\\anaconda3\\lib\\site-packages (from pandas>=1.0.5->category_encoders) (2.8.2)\n",
      "Requirement already satisfied: pytz>=2020.1 in c:\\users\\ashraf\\anaconda3\\lib\\site-packages (from pandas>=1.0.5->category_encoders) (2022.1)\n",
      "Requirement already satisfied: six in c:\\users\\ashraf\\anaconda3\\lib\\site-packages (from patsy>=0.5.1->category_encoders) (1.16.0)\n",
      "Requirement already satisfied: joblib>=0.11 in c:\\users\\ashraf\\anaconda3\\lib\\site-packages (from scikit-learn>=0.20.0->category_encoders) (1.1.0)\n",
      "Requirement already satisfied: threadpoolctl>=2.0.0 in c:\\users\\ashraf\\anaconda3\\lib\\site-packages (from scikit-learn>=0.20.0->category_encoders) (2.2.0)\n",
      "Requirement already satisfied: packaging>=21.3 in c:\\users\\ashraf\\anaconda3\\lib\\site-packages (from statsmodels>=0.9.0->category_encoders) (21.3)\n",
      "Requirement already satisfied: pyparsing!=3.0.5,>=2.0.2 in c:\\users\\ashraf\\anaconda3\\lib\\site-packages (from packaging>=21.3->statsmodels>=0.9.0->category_encoders) (3.0.9)\n"
     ]
    }
   ],
   "source": [
    "!pip install category_encoders"
   ]
  },
  {
   "cell_type": "code",
   "execution_count": 13,
   "id": "dfd0993a",
   "metadata": {},
   "outputs": [],
   "source": [
    "import category_encoders as ce"
   ]
  },
  {
   "cell_type": "code",
   "execution_count": 14,
   "id": "f21ac916",
   "metadata": {},
   "outputs": [],
   "source": [
    "ce_OHE = ce.OneHotEncoder(cols=['Extracurricular Activities'])\n",
    "\n",
    "updated_dataset = ce_OHE.fit_transform(dataset)"
   ]
  },
  {
   "cell_type": "code",
   "execution_count": 15,
   "id": "e7398831",
   "metadata": {},
   "outputs": [
    {
     "data": {
      "text/html": [
       "<div>\n",
       "<style scoped>\n",
       "    .dataframe tbody tr th:only-of-type {\n",
       "        vertical-align: middle;\n",
       "    }\n",
       "\n",
       "    .dataframe tbody tr th {\n",
       "        vertical-align: top;\n",
       "    }\n",
       "\n",
       "    .dataframe thead th {\n",
       "        text-align: right;\n",
       "    }\n",
       "</style>\n",
       "<table border=\"1\" class=\"dataframe\">\n",
       "  <thead>\n",
       "    <tr style=\"text-align: right;\">\n",
       "      <th></th>\n",
       "      <th>Hours Studied</th>\n",
       "      <th>Previous Scores</th>\n",
       "      <th>Extracurricular Activities_1</th>\n",
       "      <th>Extracurricular Activities_2</th>\n",
       "      <th>Sleep Hours</th>\n",
       "      <th>Sample Question Papers Practiced</th>\n",
       "      <th>Performance Index</th>\n",
       "    </tr>\n",
       "  </thead>\n",
       "  <tbody>\n",
       "    <tr>\n",
       "      <th>9719</th>\n",
       "      <td>6</td>\n",
       "      <td>87</td>\n",
       "      <td>0</td>\n",
       "      <td>1</td>\n",
       "      <td>5</td>\n",
       "      <td>3</td>\n",
       "      <td>73.0</td>\n",
       "    </tr>\n",
       "    <tr>\n",
       "      <th>4868</th>\n",
       "      <td>4</td>\n",
       "      <td>68</td>\n",
       "      <td>0</td>\n",
       "      <td>1</td>\n",
       "      <td>5</td>\n",
       "      <td>3</td>\n",
       "      <td>53.0</td>\n",
       "    </tr>\n",
       "    <tr>\n",
       "      <th>3486</th>\n",
       "      <td>2</td>\n",
       "      <td>70</td>\n",
       "      <td>1</td>\n",
       "      <td>0</td>\n",
       "      <td>6</td>\n",
       "      <td>8</td>\n",
       "      <td>50.0</td>\n",
       "    </tr>\n",
       "    <tr>\n",
       "      <th>5358</th>\n",
       "      <td>4</td>\n",
       "      <td>81</td>\n",
       "      <td>1</td>\n",
       "      <td>0</td>\n",
       "      <td>7</td>\n",
       "      <td>8</td>\n",
       "      <td>66.0</td>\n",
       "    </tr>\n",
       "    <tr>\n",
       "      <th>4296</th>\n",
       "      <td>7</td>\n",
       "      <td>70</td>\n",
       "      <td>1</td>\n",
       "      <td>0</td>\n",
       "      <td>6</td>\n",
       "      <td>5</td>\n",
       "      <td>62.0</td>\n",
       "    </tr>\n",
       "  </tbody>\n",
       "</table>\n",
       "</div>"
      ],
      "text/plain": [
       "      Hours Studied  Previous Scores  Extracurricular Activities_1  \\\n",
       "9719              6               87                             0   \n",
       "4868              4               68                             0   \n",
       "3486              2               70                             1   \n",
       "5358              4               81                             1   \n",
       "4296              7               70                             1   \n",
       "\n",
       "      Extracurricular Activities_2  Sleep Hours  \\\n",
       "9719                             1            5   \n",
       "4868                             1            5   \n",
       "3486                             0            6   \n",
       "5358                             0            7   \n",
       "4296                             0            6   \n",
       "\n",
       "      Sample Question Papers Practiced  Performance Index  \n",
       "9719                                 3               73.0  \n",
       "4868                                 3               53.0  \n",
       "3486                                 8               50.0  \n",
       "5358                                 8               66.0  \n",
       "4296                                 5               62.0  "
      ]
     },
     "execution_count": 15,
     "metadata": {},
     "output_type": "execute_result"
    }
   ],
   "source": [
    "updated_dataset.sample(5)"
   ]
  },
  {
   "cell_type": "markdown",
   "id": "c6609b4c",
   "metadata": {},
   "source": [
    "# Visualization Part\n",
    "### we need to see the relationship between various features and the target variable"
   ]
  },
  {
   "cell_type": "code",
   "execution_count": 25,
   "id": "845b80ad",
   "metadata": {},
   "outputs": [],
   "source": [
    "import matplotlib.pyplot as plt\n",
    "import seaborn as sns"
   ]
  },
  {
   "cell_type": "code",
   "execution_count": 26,
   "id": "50ef9214",
   "metadata": {},
   "outputs": [],
   "source": [
    "plt.style.use('ggplot')"
   ]
  },
  {
   "cell_type": "code",
   "execution_count": 28,
   "id": "7e17af07",
   "metadata": {},
   "outputs": [
    {
     "data": {
      "image/png": "[encoded data removed]",
      "text/plain": [
       "<Figure size 500x500 with 1 Axes>"
      ]
     },
     "metadata": {},
     "output_type": "display_data"
    }
   ],
   "source": [
    "sns.displot(x='Performance Index',data=dataset,kde=True,color='red');"
   ]
  },
  {
   "cell_type": "markdown",
   "id": "89bbbb66",
   "metadata": {},
   "source": [
    "### From the above Histogram, students Performance Index is mosltly 40-60 percent."
   ]
  },
  {
   "cell_type": "code",
   "execution_count": 32,
   "id": "d9de4bd2",
   "metadata": {},
   "outputs": [
    {
     "data": {
      "text/plain": [
       "<AxesSubplot:xlabel='Hours Studied', ylabel='count'>"
      ]
     },
     "execution_count": 32,
     "metadata": {},
     "output_type": "execute_result"
    },
    {
     "data": {
      "image/png": "[encoded data removed]",
      "text/plain": [
       "<Figure size 640x480 with 1 Axes>"
      ]
     },
     "metadata": {},
     "output_type": "display_data"
    }
   ],
   "source": [
    "sns.countplot(x='Hours Studied',data=dataset,color='green')"
   ]
  },
  {
   "cell_type": "markdown",
   "id": "7e9f61ac",
   "metadata": {},
   "source": [
    "### From the above graph students almost study the same number of hours"
   ]
  },
  {
   "cell_type": "code",
   "execution_count": 35,
   "id": "bb7d94dd",
   "metadata": {},
   "outputs": [
    {
     "data": {
      "image/png": "[encoded data removed]",
      "text/plain": [
       "<Figure size 640x480 with 1 Axes>"
      ]
     },
     "metadata": {},
     "output_type": "display_data"
    }
   ],
   "source": [
    "sns.countplot(x='Sleep Hours',data=dataset,color='blue');"
   ]
  },
  {
   "cell_type": "markdown",
   "id": "4813c33a",
   "metadata": {},
   "source": [
    "### It seems that the most students sleep 8 hours to get the high performance "
   ]
  },
  {
   "cell_type": "code",
   "execution_count": 36,
   "id": "78dd3c61",
   "metadata": {},
   "outputs": [
    {
     "data": {
      "image/png": "[encoded data removed]",
      "text/plain": [
       "<Figure size 640x480 with 1 Axes>"
      ]
     },
     "metadata": {},
     "output_type": "display_data"
    }
   ],
   "source": [
    "sns.countplot(x='Sample Question Papers Practiced',data=dataset,color='cyan');"
   ]
  },
  {
   "cell_type": "markdown",
   "id": "04c36c81",
   "metadata": {},
   "source": [
    "### The above graph shows a peak around 6 Sample Question Papers practiced"
   ]
  },
  {
   "cell_type": "code",
   "execution_count": null,
   "id": "bdf8c075",
   "metadata": {},
   "outputs": [],
   "source": []
  }
 ],
 "metadata": {
  "kernelspec": {
   "display_name": "Python 3 (ipykernel)",
   "language": "python",
   "name": "python3"
  },
  "language_info": {
   "codemirror_mode": {
    "name": "ipython",
    "version": 3
   },
   "file_extension": ".py",
   "mimetype": "text/x-python",
   "name": "python",
   "nbconvert_exporter": "python",
   "pygments_lexer": "ipython3",
   "version": "3.9.13"
  }
 },
 "nbformat": 4,
 "nbformat_minor": 5
}
