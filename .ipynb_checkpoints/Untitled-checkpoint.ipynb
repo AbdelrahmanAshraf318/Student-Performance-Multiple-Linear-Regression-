{
 "cells": [
  {
   "cell_type": "code",
   "execution_count": 1,
   "id": "1f7a2cc5",
   "metadata": {},
   "outputs": [
    {
     "name": "stdout",
     "output_type": "stream",
     "text": [
      "Requirement already satisfied: category_encoders in c:\\users\\ashraf\\anaconda3\\lib\\site-packages (2.6.3)\n",
      "Requirement already satisfied: pandas>=1.0.5 in c:\\users\\ashraf\\anaconda3\\lib\\site-packages (from category_encoders) (1.4.4)\n",
      "Requirement already satisfied: statsmodels>=0.9.0 in c:\\users\\ashraf\\anaconda3\\lib\\site-packages (from category_encoders) (0.13.2)\n",
      "Requirement already satisfied: scipy>=1.0.0 in c:\\users\\ashraf\\anaconda3\\lib\\site-packages (from category_encoders) (1.9.1)\n",
      "Requirement already satisfied: patsy>=0.5.1 in c:\\users\\ashraf\\anaconda3\\lib\\site-packages (from category_encoders) (0.5.2)\n",
      "Requirement already satisfied: scikit-learn>=0.20.0 in c:\\users\\ashraf\\anaconda3\\lib\\site-packages (from category_encoders) (1.0.2)\n",
      "Requirement already satisfied: numpy>=1.14.0 in c:\\users\\ashraf\\anaconda3\\lib\\site-packages (from category_encoders) (1.21.5)\n",
      "Requirement already satisfied: pytz>=2020.1 in c:\\users\\ashraf\\anaconda3\\lib\\site-packages (from pandas>=1.0.5->category_encoders) (2022.1)\n",
      "Requirement already satisfied: python-dateutil>=2.8.1 in c:\\users\\ashraf\\anaconda3\\lib\\site-packages (from pandas>=1.0.5->category_encoders) (2.8.2)\n",
      "Requirement already satisfied: six in c:\\users\\ashraf\\anaconda3\\lib\\site-packages (from patsy>=0.5.1->category_encoders) (1.16.0)\n",
      "Requirement already satisfied: joblib>=0.11 in c:\\users\\ashraf\\anaconda3\\lib\\site-packages (from scikit-learn>=0.20.0->category_encoders) (1.1.0)\n",
      "Requirement already satisfied: threadpoolctl>=2.0.0 in c:\\users\\ashraf\\anaconda3\\lib\\site-packages (from scikit-learn>=0.20.0->category_encoders) (2.2.0)\n",
      "Requirement already satisfied: packaging>=21.3 in c:\\users\\ashraf\\anaconda3\\lib\\site-packages (from statsmodels>=0.9.0->category_encoders) (21.3)\n",
      "Requirement already satisfied: pyparsing!=3.0.5,>=2.0.2 in c:\\users\\ashraf\\anaconda3\\lib\\site-packages (from packaging>=21.3->statsmodels>=0.9.0->category_encoders) (3.0.9)\n"
     ]
    }
   ],
   "source": [
    "!pip install category_encoders"
   ]
  },
  {
   "cell_type": "code",
   "execution_count": 2,
   "id": "6bf88daf",
   "metadata": {},
   "outputs": [],
   "source": [
    "\"\"\" import the necessary libraries \"\"\"\n",
    "import numpy as np\n",
    "import pandas as pd\n",
    "import matplotlib.pyplot as plt\n",
    "import copy\n",
    "import math\n",
    "import sklearn\n",
    "%matplotlib inline"
   ]
  },
  {
   "cell_type": "code",
   "execution_count": 3,
   "id": "239521d5",
   "metadata": {},
   "outputs": [],
   "source": [
    "\"\"\" Read the dataset we got from Kaggle \"\"\"\n",
    "dataset = pd.read_csv(\"Dataset/Student_Performance.csv\")"
   ]
  },
  {
   "cell_type": "code",
   "execution_count": 4,
   "id": "34dd5c48",
   "metadata": {},
   "outputs": [],
   "source": [
    "\"\"\" Shuffle the dataset ,so we can make sure that the ordering of the dataset does not affect the learning process \"\"\"\n",
    "import random\n",
    "dataset = dataset.sample(frac = 1) #shuffle by rows"
   ]
  },
  {
   "cell_type": "code",
   "execution_count": 5,
   "id": "6e5fc706",
   "metadata": {},
   "outputs": [
    {
     "data": {
      "text/plain": [
       "Hours Studied                       0\n",
       "Previous Scores                     0\n",
       "Extracurricular Activities          0\n",
       "Sleep Hours                         0\n",
       "Sample Question Papers Practiced    0\n",
       "Performance Index                   0\n",
       "dtype: int64"
      ]
     },
     "execution_count": 5,
     "metadata": {},
     "output_type": "execute_result"
    }
   ],
   "source": [
    "\"\"\" Check whether there are missing values in the dataset or not \"\"\"\n",
    "dataset.isnull().sum()"
   ]
  },
  {
   "cell_type": "markdown",
   "id": "3d4ef71b",
   "metadata": {},
   "source": [
    "### it seems that there are not missing values in the dataset "
   ]
  },
  {
   "cell_type": "code",
   "execution_count": 6,
   "id": "6732efd7",
   "metadata": {},
   "outputs": [],
   "source": [
    "\"\"\" Check whether the dataset contains duplicates rows OR not \"\"\"\n",
    "duplicate = dataset[dataset.duplicated()]"
   ]
  },
  {
   "cell_type": "code",
   "execution_count": 7,
   "id": "ceee9fda",
   "metadata": {},
   "outputs": [],
   "source": [
    "\"\"\" Drop the duplicate rows \"\"\"\n",
    "dataset = dataset.drop_duplicates()"
   ]
  },
  {
   "cell_type": "code",
   "execution_count": 8,
   "id": "f6d0fec9",
   "metadata": {},
   "outputs": [],
   "source": [
    "import category_encoders as ce"
   ]
  },
  {
   "cell_type": "code",
   "execution_count": 9,
   "id": "22071f51",
   "metadata": {},
   "outputs": [],
   "source": [
    "ce_OHE = ce.OneHotEncoder(cols=['Extracurricular Activities'])\n",
    "\n",
    "updated_dataset = ce_OHE.fit_transform(dataset)"
   ]
  },
  {
   "cell_type": "markdown",
   "id": "978c3dd9",
   "metadata": {},
   "source": [
    "### Splitting the dataset"
   ]
  },
  {
   "cell_type": "code",
   "execution_count": 11,
   "id": "67e598ca",
   "metadata": {},
   "outputs": [],
   "source": [
    "X , y = updated_dataset[['Hours Studied', 'Previous Scores', 'Extracurricular Activities_1',\n",
    "       'Extracurricular Activities_2', 'Sleep Hours',\n",
    "       'Sample Question Papers Practiced']].values , updated_dataset[['Performance Index']].values"
   ]
  },
  {
   "cell_type": "code",
   "execution_count": 12,
   "id": "ab172364",
   "metadata": {},
   "outputs": [],
   "source": [
    "from sklearn.model_selection import train_test_split\n",
    "X_train, X_test, y_train, y_test = train_test_split(X,y , random_state=104,test_size=0.20, shuffle=True)"
   ]
  },
  {
   "cell_type": "markdown",
   "id": "e39a89c0",
   "metadata": {},
   "source": [
    "# Building the model using Scikit-Learn"
   ]
  },
  {
   "cell_type": "code",
   "execution_count": 13,
   "id": "a76b25f8",
   "metadata": {},
   "outputs": [
    {
     "name": "stdout",
     "output_type": "stream",
     "text": [
      "SGDRegressor()\n",
      "number of iterations completed: 72, number of weight updates: 568657.0\n"
     ]
    },
    {
     "name": "stderr",
     "output_type": "stream",
     "text": [
      "C:\\Users\\Ashraf\\anaconda3\\lib\\site-packages\\sklearn\\utils\\validation.py:993: DataConversionWarning: A column-vector y was passed when a 1d array was expected. Please change the shape of y to (n_samples, ), for example using ravel().\n",
      "  y = column_or_1d(y, warn=True)\n"
     ]
    }
   ],
   "source": [
    "from sklearn.linear_model import SGDRegressor\n",
    "sgdr = SGDRegressor(max_iter=1000)\n",
    "sgdr.fit(X_train, y_train)\n",
    "print(sgdr)\n",
    "print(f\"number of iterations completed: {sgdr.n_iter_}, number of weight updates: {sgdr.t_}\")"
   ]
  },
  {
   "cell_type": "markdown",
   "id": "c4e21962",
   "metadata": {},
   "source": [
    "### View Parameters"
   ]
  },
  {
   "cell_type": "code",
   "execution_count": 14,
   "id": "12320102",
   "metadata": {},
   "outputs": [
    {
     "name": "stdout",
     "output_type": "stream",
     "text": [
      "model parameters:                   w: [-2.42265049e+08  1.30479031e+07  1.12506887e+09  3.94123671e+08\n",
      " -3.09952762e+08  1.71365143e+08], b:[1.21665341e+09]\n",
      "model parameters from previous lab: w: [110.56 -21.27 -32.71 -37.97], b: 363.16\n"
     ]
    }
   ],
   "source": [
    "b_norm = sgdr.intercept_\n",
    "w_norm = sgdr.coef_\n",
    "print(f\"model parameters:                   w: {w_norm}, b:{b_norm}\")\n",
    "print( \"model parameters from previous lab: w: [110.56 -21.27 -32.71 -37.97], b: 363.16\")"
   ]
  },
  {
   "cell_type": "markdown",
   "id": "8b8ad194",
   "metadata": {},
   "source": [
    "# Make Predictions"
   ]
  },
  {
   "cell_type": "code",
   "execution_count": null,
   "id": "d974a430",
   "metadata": {},
   "outputs": [],
   "source": [
    "# make a prediction using sgdr.predict()\n",
    "y_pred_sgd = sgdr.predict(X_test)\n",
    "# make a prediction using w,b. \n",
    "y_pred = np.dot(X_test, w_norm) + b_norm  \n",
    "print(f\"prediction using np.dot() and sgdr.predict match: {(y_pred == y_pred_sgd).all()}\")\n",
    "\n",
    "print(f\"Prediction on training set:\\n{y_pred[:4]}\" )\n",
    "print(f\"Target values \\n{y_train[:4]}\")"
   ]
  }
 ],
 "metadata": {
  "kernelspec": {
   "display_name": "Python 3 (ipykernel)",
   "language": "python",
   "name": "python3"
  },
  "language_info": {
   "codemirror_mode": {
    "name": "ipython",
    "version": 3
   },
   "file_extension": ".py",
   "mimetype": "text/x-python",
   "name": "python",
   "nbconvert_exporter": "python",
   "pygments_lexer": "ipython3",
   "version": "3.9.13"
  }
 },
 "nbformat": 4,
 "nbformat_minor": 5
}
